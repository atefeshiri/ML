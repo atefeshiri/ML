{
  "nbformat": 4,
  "nbformat_minor": 0,
  "metadata": {
    "colab": {
      "name": "Untitled2.ipynb",
      "provenance": [],
      "include_colab_link": true
    },
    "kernelspec": {
      "name": "python3",
      "display_name": "Python 3"
    }
  },
  "cells": [
    {
      "cell_type": "markdown",
      "metadata": {
        "id": "view-in-github",
        "colab_type": "text"
      },
      "source": [
        "<a href=\"https://colab.research.google.com/github/atefeshiri/ML/blob/master/a_simple_neouron.ipynb\" target=\"_parent\"><img src=\"https://colab.research.google.com/assets/colab-badge.svg\" alt=\"Open In Colab\"/></a>"
      ]
    },
    {
      "cell_type": "code",
      "metadata": {
        "id": "mkaMa_lN8NA6",
        "colab_type": "code",
        "colab": {
          "base_uri": "https://localhost:8080/",
          "height": 202
        },
        "outputId": "8feab0aa-06a1-4c11-cb41-0a4801b9d001"
      },
      "source": [
        "from keras import models\n",
        "from keras import layers\n",
        "import numpy as np\n",
        "\n",
        "network = models.Sequential()\n",
        "network.add(layers.Dense(1,input_shape=(1,)))\n",
        "network.compile(optimizer='sgd',#'rmsprop',\n",
        "                loss='mean_squared_error',#'categorical_crossentropy',\n",
        "                metrics=['mse'])\n",
        "x_train = np.linspace(0,1,10000)\n",
        "y_train = x_train"
      ],
      "execution_count": 1,
      "outputs": [
        {
          "output_type": "stream",
          "text": [
            "Using TensorFlow backend.\n"
          ],
          "name": "stderr"
        },
        {
          "output_type": "stream",
          "text": [
            "WARNING:tensorflow:From /usr/local/lib/python3.6/dist-packages/keras/backend/tensorflow_backend.py:66: The name tf.get_default_graph is deprecated. Please use tf.compat.v1.get_default_graph instead.\n",
            "\n",
            "WARNING:tensorflow:From /usr/local/lib/python3.6/dist-packages/keras/backend/tensorflow_backend.py:541: The name tf.placeholder is deprecated. Please use tf.compat.v1.placeholder instead.\n",
            "\n",
            "WARNING:tensorflow:From /usr/local/lib/python3.6/dist-packages/keras/backend/tensorflow_backend.py:4432: The name tf.random_uniform is deprecated. Please use tf.random.uniform instead.\n",
            "\n",
            "WARNING:tensorflow:From /usr/local/lib/python3.6/dist-packages/keras/optimizers.py:793: The name tf.train.Optimizer is deprecated. Please use tf.compat.v1.train.Optimizer instead.\n",
            "\n"
          ],
          "name": "stdout"
        }
      ]
    },
    {
      "cell_type": "code",
      "metadata": {
        "id": "K0Tq0RPc9SqP",
        "colab_type": "code",
        "colab": {
          "base_uri": "https://localhost:8080/",
          "height": 54
        },
        "outputId": "d62b5f62-03ea-432c-8575-5f53e2401429"
      },
      "source": [
        "x_train"
      ],
      "execution_count": 2,
      "outputs": [
        {
          "output_type": "execute_result",
          "data": {
            "text/plain": [
              "array([0.00000000e+00, 1.00010001e-04, 2.00020002e-04, ...,\n",
              "       9.99799980e-01, 9.99899990e-01, 1.00000000e+00])"
            ]
          },
          "metadata": {
            "tags": []
          },
          "execution_count": 2
        }
      ]
    },
    {
      "cell_type": "code",
      "metadata": {
        "id": "rvD5GmgJ9Zkd",
        "colab_type": "code",
        "colab": {
          "base_uri": "https://localhost:8080/",
          "height": 717
        },
        "outputId": "01f1d29b-f8d8-4900-b296-0a94fed18b8a"
      },
      "source": [
        "network.fit(x_train,y_train,epochs=10,batch_size=1000)"
      ],
      "execution_count": 3,
      "outputs": [
        {
          "output_type": "stream",
          "text": [
            "WARNING:tensorflow:From /usr/local/lib/python3.6/dist-packages/keras/backend/tensorflow_backend.py:1033: The name tf.assign_add is deprecated. Please use tf.compat.v1.assign_add instead.\n",
            "\n",
            "WARNING:tensorflow:From /usr/local/lib/python3.6/dist-packages/keras/backend/tensorflow_backend.py:1020: The name tf.assign is deprecated. Please use tf.compat.v1.assign instead.\n",
            "\n",
            "WARNING:tensorflow:From /usr/local/lib/python3.6/dist-packages/keras/backend/tensorflow_backend.py:3005: The name tf.Session is deprecated. Please use tf.compat.v1.Session instead.\n",
            "\n",
            "Epoch 1/10\n",
            "WARNING:tensorflow:From /usr/local/lib/python3.6/dist-packages/keras/backend/tensorflow_backend.py:190: The name tf.get_default_session is deprecated. Please use tf.compat.v1.get_default_session instead.\n",
            "\n",
            "WARNING:tensorflow:From /usr/local/lib/python3.6/dist-packages/keras/backend/tensorflow_backend.py:197: The name tf.ConfigProto is deprecated. Please use tf.compat.v1.ConfigProto instead.\n",
            "\n",
            "WARNING:tensorflow:From /usr/local/lib/python3.6/dist-packages/keras/backend/tensorflow_backend.py:207: The name tf.global_variables is deprecated. Please use tf.compat.v1.global_variables instead.\n",
            "\n",
            "WARNING:tensorflow:From /usr/local/lib/python3.6/dist-packages/keras/backend/tensorflow_backend.py:216: The name tf.is_variable_initialized is deprecated. Please use tf.compat.v1.is_variable_initialized instead.\n",
            "\n",
            "WARNING:tensorflow:From /usr/local/lib/python3.6/dist-packages/keras/backend/tensorflow_backend.py:223: The name tf.variables_initializer is deprecated. Please use tf.compat.v1.variables_initializer instead.\n",
            "\n",
            "10000/10000 [==============================] - 1s 75us/step - loss: 0.1378 - mean_squared_error: 0.1378\n",
            "Epoch 2/10\n",
            "10000/10000 [==============================] - 0s 10us/step - loss: 0.0477 - mean_squared_error: 0.0477\n",
            "Epoch 3/10\n",
            "10000/10000 [==============================] - 0s 10us/step - loss: 0.0364 - mean_squared_error: 0.0364\n",
            "Epoch 4/10\n",
            "10000/10000 [==============================] - 0s 10us/step - loss: 0.0279 - mean_squared_error: 0.0279\n",
            "Epoch 5/10\n",
            "10000/10000 [==============================] - 0s 9us/step - loss: 0.0215 - mean_squared_error: 0.0215\n",
            "Epoch 6/10\n",
            "10000/10000 [==============================] - 0s 10us/step - loss: 0.0165 - mean_squared_error: 0.0165\n",
            "Epoch 7/10\n",
            "10000/10000 [==============================] - 0s 11us/step - loss: 0.0127 - mean_squared_error: 0.0127\n",
            "Epoch 8/10\n",
            "10000/10000 [==============================] - 0s 9us/step - loss: 0.0097 - mean_squared_error: 0.0097\n",
            "Epoch 9/10\n",
            "10000/10000 [==============================] - 0s 10us/step - loss: 0.0075 - mean_squared_error: 0.0075\n",
            "Epoch 10/10\n",
            "10000/10000 [==============================] - 0s 10us/step - loss: 0.0058 - mean_squared_error: 0.0058\n"
          ],
          "name": "stdout"
        },
        {
          "output_type": "execute_result",
          "data": {
            "text/plain": [
              "<keras.callbacks.History at 0x7f0ca936d630>"
            ]
          },
          "metadata": {
            "tags": []
          },
          "execution_count": 3
        }
      ]
    }
  ]
}